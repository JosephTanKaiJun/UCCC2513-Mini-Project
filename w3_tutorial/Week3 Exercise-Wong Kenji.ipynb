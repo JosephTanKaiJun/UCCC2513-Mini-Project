{
 "cells": [
  {
   "cell_type": "markdown",
   "id": "e4603a08-577c-4d76-a0f1-a7f002c9f364",
   "metadata": {},
   "source": [
    "## Exercises\n",
    "\n",
    "1. Load and display the image 'dog.jfif'. Save the image in png format.\n",
    "2. *Suggest 2 ways and write codes to display 2 images simultaneously.* You can use any image snapped from your handphone, downloaded from internet or images from weekly materials on MS teams. The 2 images are original color image and its corresponding grayscale image.\n",
    "3. Write codes that performs the following:\n",
    "    * Load the video “img_pexels.mp4” into the Python environment, resize it and display the videos with smaller frames (The frames can be of any size, as long as it is smaller). You can specify an arbitrary frame rate.\n",
    "    * Save it as a separate files: “smaller_img_pexels.avi” or \"smaller_img_pexels.mp4\"\n",
    "4. Enlarge the image \"dog.jfif\" by using different techniques:\n",
    "    1) Linear interpolation\n",
    "   2) Cubic interpolation\n",
    "   3) Nearest neighbor interpolation.\n",
    "\n",
    "Upscale the images by **4 times** on its respective dimensions. Perform profiling on each method. Comment on the **execution times** and **quality of resulting images**."
   ]
  },
  {
   "cell_type": "code",
   "execution_count": 1,
   "id": "9d155212-cba0-4348-a66e-48cf3eee2f1f",
   "metadata": {},
   "outputs": [],
   "source": [
    "#1\n",
    "import cv2 as cv\n",
    "\n",
    "img = cv.imread(\"images/dog.jfif\")\n",
    "\n",
    "cv.imshow('Dog', img)\n",
    "cv.waitKey(0)\n",
    "cv.destroyAllWindows()"
   ]
  },
  {
   "cell_type": "code",
   "execution_count": null,
   "id": "1be1e72e-ba41-4805-9840-2d76215e0b73",
   "metadata": {},
   "outputs": [],
   "source": [
    "#2\n",
    "img = cv.imread('images/dog.jfif')\n",
    "\n",
    "# Convert to grayscale\n",
    "gray_img = cv.cvtColor(img, cv.COLOR_BGR2GRAY)\n",
    "\n",
    "# Display both images\n",
    "cv.imshow('Original Image', img)\n",
    "cv.imshow('Grayscale Image', gray_img)\n",
    "cv.waitKey(0)\n",
    "cv.destroyAllWindows()"
   ]
  },
  {
   "cell_type": "code",
   "execution_count": null,
   "id": "05473518-8fb6-422c-b74d-267a5a716c6d",
   "metadata": {},
   "outputs": [],
   "source": [
    "#3\n",
    "# Load the video\n",
    "cap = cv.VideoCapture('videos/img_pexels.mp4')\n",
    "\n",
    "fourCC = cv.VideoWriter_fourcc(*'XVID')\n",
    "output = cv.VideoWriter('smaller_img_pexels.avi', fourCC, 20.0, (320, 240))\n",
    "\n",
    "while cap.isOpened():\n",
    "    ret, frame = cap.read()\n",
    "    if not ret:\n",
    "        break\n",
    "\n",
    "    # Resize the frame to smaller dimensions\n",
    "    small_frame = cv.resize(frame, (320, 240))\n",
    "\n",
    "    # Display the frame\n",
    "    cv.imshow('Smaller Video', small_frame)\n",
    "\n",
    "    # Write the frame to the output file\n",
    "    output.write(small_frame)\n",
    "\n",
    "    if cv.waitKey(25) & 0xFF == ord('q'):\n",
    "        break\n",
    "\n",
    "cap.release()\n",
    "output.release()\n",
    "cv.waitKey(0)\n",
    "cv.destroyAllWindows()"
   ]
  },
  {
   "cell_type": "code",
   "execution_count": null,
   "id": "0874498e-ed51-47c2-bf45-326b7e075e21",
   "metadata": {},
   "outputs": [],
   "source": [
    "#4\n",
    "import time\n",
    "img = cv.imread('images/dog.jfif')\n",
    "\n",
    "scale_factor = 4\n",
    "new_size = (img.shape[1] * scale_factor, img.shape[0] * scale_factor)\n",
    "\n",
    "# Enlarge the image using linear interpolation\n",
    "start = time.time()\n",
    "img_linear = cv.resize(img, new_size, interpolation=cv.INTER_LINEAR)\n",
    "end = time.time()\n",
    "print(f\"Linear interpolation took {end - start:.5f} seconds\")\n",
    "\n",
    "# Enlarge the image using cubic interpolation\n",
    "start = time.time()\n",
    "img_cubic = cv.resize(img, new_size, interpolation=cv.INTER_CUBIC)\n",
    "end = time.time()\n",
    "print(f\"Cubic interpolation took {end - start:.5f} seconds\")\n",
    "\n",
    "# Enlarge the image using nearest neighbor interpolation\n",
    "start = time.time()\n",
    "img_nearest = cv.resize(img, new_size, interpolation=cv.INTER_NEAREST)\n",
    "end = time.time()\n",
    "print(f\"Nearest neighbor interpolation took {end - start:.5f} seconds\")\n",
    "\n",
    "# Display the images\n",
    "cv.imshow('Linear Interpolation', img_linear)\n",
    "cv.imshow('Cubic Interpolation', img_cubic)\n",
    "cv.imshow('Nearest Neighbor Interpolation', img_nearest)\n",
    "cv.waitKey(0)\n",
    "cv.destroyAllWindows()"
   ]
  }
 ],
 "metadata": {
  "kernelspec": {
   "display_name": "Python 3 (ipykernel)",
   "language": "python",
   "name": "python3"
  },
  "language_info": {
   "codemirror_mode": {
    "name": "ipython",
    "version": 3
   },
   "file_extension": ".py",
   "mimetype": "text/x-python",
   "name": "python",
   "nbconvert_exporter": "python",
   "pygments_lexer": "ipython3",
   "version": "3.11.7"
  }
 },
 "nbformat": 4,
 "nbformat_minor": 5
}
