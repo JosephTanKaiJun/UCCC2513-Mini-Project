{
 "cells": [
  {
   "cell_type": "code",
   "execution_count": 4,
   "id": "06b14005-c4bd-43e6-b3b1-129b888bed35",
   "metadata": {},
   "outputs": [
    {
     "data": {
      "text/plain": [
       "True"
      ]
     },
     "execution_count": 4,
     "metadata": {},
     "output_type": "execute_result"
    }
   ],
   "source": [
    "import sys\n",
    "# Python 3.8 is required\n",
    "assert sys.version_info >= (3, 8)\n",
    "\n",
    "import cv2 as cv\n",
    "import numpy as np\n",
    "from utils import display_images, display_image\n",
    "import matplotlib.pyplot as plt\n",
    "\n",
    "# Make sure that optimization is enabled\n",
    "if not cv.useOptimized():\n",
    "    cv.setUseOptimized(True)\n",
    "    \n",
    "cv.useOptimized()"
   ]
  },
  {
   "cell_type": "markdown",
   "id": "192496f1-9be0-4956-a8aa-7cc1e0935779",
   "metadata": {},
   "source": [
    "## Weekly activity\n",
    "1. Create a **random noise color and grayscale** image. You can set your own width and height, but keep the total number of pixels of both images identical.\n",
    "2. Convert the code chunk found under section <a href=\"#Section1\">Divide an image into smaller patches using cropping</a> into a function with the following signature:\n",
    "```python\n",
    "crop_grid(img, num_horizontal_grid, num_vertical_grid, line_color)\n",
    " # img is the source image\n",
    " # num_horizontal_grid and num_vertical_grid are the number of patches along x and y axes.\n",
    " # line_color is the color of the grid line.\n",
    " # The output of the function should be image with grids\n",
    "```\n",
    "3. How would you *change the brightness* of a **color image**? Suggest **two ways** to perform the image processing operations. Implement your methods by providing the example codes. You are free to choose any image.\n",
    "4. Provide at least one common use case(s) for the following color spaces:\n",
    "    - RGB\n",
    "    - HSV\n",
    "    - CIELAB"
   ]
  },
  {
   "cell_type": "code",
   "execution_count": 40,
   "id": "59ef5805-dc0d-4964-9f8e-4c133a94ed01",
   "metadata": {},
   "outputs": [
    {
     "name": "stdout",
     "output_type": "stream",
     "text": [
      "Pixel of random noise color image: (300, 300, 3)\n",
      "Pixel of grayscale image: (300, 300)\n"
     ]
    }
   ],
   "source": [
    "#1\n",
    "height = 300\n",
    "width = 300\n",
    "\n",
    "#random_noise_color image\n",
    "random_noise_color_image = np.random.randint(0, 256, (height, width, 3), dtype=np.uint8)\n",
    "\n",
    "#grayscale image\n",
    "grayscale_noise_image = np.random.randint(0, 256, (height, width), dtype=np.uint8)\n",
    "\n",
    "display_images([random_noise_color_image,grayscale_noise_image],('random noise color image','grayscale image'))\n",
    "\n",
    "print(f\"Pixel of random noise color image: {np.shape(random_noise_color_image)}\")\n",
    "print(f\"Pixel of grayscale image: {np.shape(grayscale_noise_image)}\")"
   ]
  },
  {
   "cell_type": "code",
   "execution_count": 18,
   "id": "302af739-bcfc-4ee3-9ab8-70bd248b8505",
   "metadata": {},
   "outputs": [],
   "source": [
    "#2\n",
    "def crop_grid(img, num_horizontal_grid, num_vertical_grid, line_color):\n",
    "    \n",
    "    ori_img = cv.imread(img)\n",
    "    img_copy = ori_img.copy()\n",
    "    \n",
    "    height, width = ori_img.shape[:2]\n",
    "\n",
    "    #Let M and N be the number of pixels per patch\n",
    "    M, N = int(height / num_vertical_grid), int(width / num_horizontal_grid)\n",
    "\n",
    "    # draw grid based on the number of patches\n",
    "    for y in range(0, height, M):\n",
    "        for x in range(0, width, N):\n",
    "            x1 = x + N\n",
    "            y1 = y + M\n",
    "\n",
    "            if x1 >= width and y1 >= height:\n",
    "                x1 = width\n",
    "                y1 = height\n",
    "                cv.rectangle(img_copy, (x, y), (x1, y1), line_color, 1)\n",
    "\n",
    "            elif x1 >= width:\n",
    "                x1 = width - 1\n",
    "                cv.rectangle(img_copy, (x, y), (x1, y1), line_color, 1)\n",
    "\n",
    "            elif y1 >= height:\n",
    "                y1 = height - 1\n",
    "                cv.rectangle(img_copy, (x, y), (x1, y1), line_color, 1)\n",
    "\n",
    "            else:\n",
    "                cv.rectangle(img_copy, (x, y), (x1, y1), line_color, 1)\n",
    "\n",
    "    return img_copy\n",
    "\n",
    "img_cropped = crop_grid(\"images/meal.jpg\", 3, 3, (255, 255, 255))\n",
    "display_image('cropped image', img_cropped)"
   ]
  },
  {
   "cell_type": "code",
   "execution_count": 124,
   "id": "6bb7a70b-4928-447d-9bef-c90ef030557a",
   "metadata": {},
   "outputs": [],
   "source": [
    "#3\n",
    "# First way: Convert image to HSV color space and adjusting the value or intensity channel\n",
    "def adjustBrightnessHSV(img, value):\n",
    "    img_toadjust = cv.imread(img)\n",
    "\n",
    "    # Convert BGR to HSV\n",
    "    img_hsv = cv.cvtColor(img_toadjust, cv.COLOR_BGR2HSV)\n",
    "    # Split\n",
    "    h, s, v = cv.split(img_hsv)\n",
    "\n",
    "    # Adjusting value channel\n",
    "    v_new = cv.add(v, value)\n",
    "    v_new = np.uint8(v_new)\n",
    "    # Merge\n",
    "    transform = cv.merge((h, s, v_new))\n",
    "    return cv.cvtColor(transform, cv.COLOR_HSV2BGR)\n",
    "\n",
    "from utils import display_images\n",
    "v = 50\n",
    "img_modified_hsv = adjustBrightnessHSV('images/dog.jfif', v)\n",
    "display_images([img, img_modified_hsv],('original', f\"value={v}\"))\n",
    "\n",
    "# Second way: Convert image to LAB color space and adjust the value of L channel\n",
    "def adjustBrightnessLAB(img, lab):\n",
    "    img_toadjust = cv.imread(img)\n",
    "\n",
    "    # Convert BGR to LAB\n",
    "    img_lab = cv.cvtColor(img_toadjust, cv.COLOR_BGR2LAB)\n",
    "    # Split\n",
    "    l, a, b = cv.split(img_lab)\n",
    "\n",
    "    # Adjusting L channel\n",
    "    l_new = cv.add(l, lab)\n",
    "    l_new = np.uint8(l_new)\n",
    "    # Merge\n",
    "    transform = cv.merge((l_new, a, b))\n",
    "    return cv.cvtColor(transform, cv.COLOR_LAB2BGR)\n",
    "\n",
    "l = 50\n",
    "img_modified_lab = adjustBrightnessLAB('images/dog.jfif', l)\n",
    "display_images([img, img_modified_lab], ('lab', f\"L value={l}\"))"
   ]
  },
  {
   "cell_type": "markdown",
   "id": "635d0713-9a68-4fa3-9e44-c3c507b1e56f",
   "metadata": {},
   "source": [
    "# #4\n",
    "## Common use case for:\n",
    "1. ```RGB```: Display on phones, TVs\n",
    "2. ```HSV```: Image segmentation, graphic designing\n",
    "3. ```CIELAB```: color managment in printing"
   ]
  }
 ],
 "metadata": {
  "kernelspec": {
   "display_name": "Python 3 (ipykernel)",
   "language": "python",
   "name": "python3"
  },
  "language_info": {
   "codemirror_mode": {
    "name": "ipython",
    "version": 3
   },
   "file_extension": ".py",
   "mimetype": "text/x-python",
   "name": "python",
   "nbconvert_exporter": "python",
   "pygments_lexer": "ipython3",
   "version": "3.11.7"
  }
 },
 "nbformat": 4,
 "nbformat_minor": 5
}
