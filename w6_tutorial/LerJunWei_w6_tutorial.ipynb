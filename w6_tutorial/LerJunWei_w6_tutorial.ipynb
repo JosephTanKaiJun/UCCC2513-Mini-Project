{
 "cells": [
  {
   "cell_type": "markdown",
   "id": "4397d9a2-2756-43b6-b463-59304f9ce5b5",
   "metadata": {},
   "source": [
    "# Setup"
   ]
  },
  {
   "cell_type": "code",
   "execution_count": 9,
   "id": "10bfcf7f-c78a-4fc7-b243-51387c428d66",
   "metadata": {},
   "outputs": [
    {
     "data": {
      "text/plain": [
       "True"
      ]
     },
     "execution_count": 9,
     "metadata": {},
     "output_type": "execute_result"
    }
   ],
   "source": [
    "import sys\n",
    "assert sys.version_info >= (3, 8)\n",
    "\n",
    "import cv2 as cv\n",
    "import numpy as np\n",
    "import matplotlib.pyplot as plt\n",
    "from utils import display_images, matplotlib_show_images, display_images, display_image, auto_canny\n",
    "if cv.useOptimized():\n",
    "    cv.setUseOptimized(True)\n",
    "\n",
    "cv.useOptimized()"
   ]
  },
  {
   "cell_type": "markdown",
   "id": "b643fd39-50f2-4ef2-afe1-e0335e6788c5",
   "metadata": {},
   "source": [
    "# Weekly activities\n",
    "1. Apply custom sharpening kernel of aperture size 3 and 5 as shown below on 'native-bee.png':  \n",
    "$ 3 \\times 3$ kernel:  \n",
    "$ \\begin{bmatrix}\n",
    "0 & -1 & 0 \\\\\n",
    "-1 & 5 & -1 \\\\\n",
    "0 & -1 & 0\\\\\n",
    "\\end{bmatrix}$  \n",
    "$ 5 \\times 5$ kernel:  \n",
    "$ \\begin{bmatrix}\n",
    "-1 & -1 & -1 & -1 & -1 \\\\\n",
    "-1 & -1 & -1 & -1 & -1 \\\\\n",
    "-1 & -1 & 25 & -1 & -1 \\\\\n",
    "-1 & -1 & -1 & -1 & -1 \\\\\n",
    "-1 & -1 & -1 & -1 & -1 \\\\\n",
    "\\end{bmatrix}$  \n",
    "What can you infer from the outputs?\n",
    "2. Apply different image smoothing techniques (e.g. average filter, Gaussian kernel and median filter) on 'noise_lena.jpg' and display the resulting images after the convolution. Comment on the outcomes and deduce the type of noise present on the image.\n",
    "3. Write a program to *segment the boat and the people on it from the background*. Follow the instruction below:\n",
    "    - Use 'boat.jpg' as input.\n",
    "    - Apply Otsu thresholding.\n",
    "    - Draw bounding box to identify the region where the boat and people are located."
   ]
  },
  {
   "cell_type": "code",
   "execution_count": 3,
   "id": "6a7f4f1c-7a36-4505-a7c9-9c2e46a413b8",
   "metadata": {},
   "outputs": [],
   "source": [
    "#1 \n",
    "kernel1 = np.array ([[0, -1, 0],\n",
    "                   [-1, 5, -1],\n",
    "                   [0, -1, 0]])\n",
    "\n",
    "kernel2 = np.array([[-1, -1, -1, -1, -1],\n",
    "                   [-1, -1, -1, -1, -1],\n",
    "                   [-1, -1, 25, -1, -1],\n",
    "                   [-1, -1, -1, -1, -1],\n",
    "                   [-1, -1, -1, -1, -1]])\n",
    "\n",
    "img = cv.imread(\"images/native-bee.png\")\n",
    "dst1 = cv.filter2D(img, -1, kernel1)\n",
    "dst2 = cv.filter2D(img, -1, kernel2)\n",
    "\n",
    "display_images([img, dst1, dst2], (\"source\",\"3x3\", \"5x5\"))\n",
    "\n",
    "# moderate sharpening effect for 3x3 kernel\n",
    "# strong sharpening for 5x5 kernel, but increase noise"
   ]
  },
  {
   "cell_type": "code",
   "execution_count": 7,
   "id": "e1cc3af0-682c-4695-9ea0-c6c2d28a2035",
   "metadata": {},
   "outputs": [],
   "source": [
    "#2\n",
    "img = cv.imread(\"images/noise_lena.jpg\")\n",
    "\n",
    "#average filter\n",
    "blur1 = cv.blur(img, (5, 5))\n",
    "\n",
    "#Gaussian kernel\n",
    "blur2 = cv.GaussianBlur(img, (5, 5), 0)\n",
    "\n",
    "#median filter\n",
    "blur3 = cv.medianBlur(img, 5)\n",
    "\n",
    "#bilateral filtering\n",
    "blur4 = cv.bilateralFilter(img, d=9, sigmaColor=75, sigmaSpace=75)\n",
    "\n",
    "display_images([img, blur1, blur2, blur3, blur4],(\"source\", \"average_filter\", \"Gaussian kernel\", \"median filter\", \"bilateral filtering\"))\n",
    "\n",
    "# average filter = noise reduced but blur edge, less sharp\n",
    "# Gaussian kernel = reduce noise more natural but a little bit of edge blurring, not suit for salt-and-pepper noise\n",
    "# Median filter = preserves edge better than average and Gaussian filter, most suitable for salt-and-pepper noise\n",
    "# Bilateral filter = removed noise while preserving edges and sharpness, still some noise present compare to median filter\n",
    "\n",
    "# median >> bilateral > gaussian >≈ average\n",
    "\n",
    "# The type of noise on noise_lena.jpg is salt-and-pepper as characterized by a random apperance of black and white pixels throughout the image"
   ]
  },
  {
   "cell_type": "code",
   "execution_count": 43,
   "id": "8f1bfbc9-28aa-4594-bebe-d9064e653174",
   "metadata": {},
   "outputs": [],
   "source": [
    "#3\n",
    "img = cv.imread(\"images/boat.jpg\")\n",
    "gray = cv.cvtColor(img, cv.COLOR_BGR2GRAY)\n",
    "\n",
    "# applying otsu thresholding\n",
    "ret, th = cv.threshold(gray, 0, 255, cv.THRESH_BINARY_INV | cv.THRESH_OTSU)\n",
    "\n",
    "# contour\n",
    "contours, _ = cv.findContours(th, cv.RETR_TREE, cv.CHAIN_APPROX_SIMPLE)\n",
    "#post-processing\n",
    "contour_max_area = max(contours, key=cv.contourArea)\n",
    "\n",
    "#draw bounding box\n",
    "x, y, w, h = cv.boundingRect(contour_max_area)\n",
    "img_copy = img.copy()\n",
    "# cv.drawContours(img_copy, [contour_max_area], -1, (0, 255, 0), 2)\n",
    "cv.rectangle(img_copy, (x, y), (x + w, y + h), (0, 255, 0), 2)\n",
    "display_image(\"gotchu boat\", img_copy)"
   ]
  },
  {
   "cell_type": "code",
   "execution_count": 23,
   "id": "9aea1ece-309d-402c-ab6e-b09bc137e5b8",
   "metadata": {},
   "outputs": [
    {
     "data": {
      "text/plain": [
       "(514, 768, 3)"
      ]
     },
     "execution_count": 23,
     "metadata": {},
     "output_type": "execute_result"
    }
   ],
   "source": [
    "img.shape"
   ]
  },
  {
   "cell_type": "markdown",
   "id": "bddc90fc-a121-4326-81f2-7196afadebc8",
   "metadata": {},
   "source": [
    "# Useful links:\n",
    "- Learn more about different types of image filters: https://setosa.io/ev/image-kernels/"
   ]
  },
  {
   "cell_type": "code",
   "execution_count": null,
   "id": "170d9fca-85e6-4787-98f3-70f8c9ebd07a",
   "metadata": {},
   "outputs": [],
   "source": []
  }
 ],
 "metadata": {
  "kernelspec": {
   "display_name": "Python 3 (ipykernel)",
   "language": "python",
   "name": "python3"
  },
  "language_info": {
   "codemirror_mode": {
    "name": "ipython",
    "version": 3
   },
   "file_extension": ".py",
   "mimetype": "text/x-python",
   "name": "python",
   "nbconvert_exporter": "python",
   "pygments_lexer": "ipython3",
   "version": "3.11.7"
  },
  "widgets": {
   "application/vnd.jupyter.widget-state+json": {
    "state": {},
    "version_major": 2,
    "version_minor": 0
   }
  }
 },
 "nbformat": 4,
 "nbformat_minor": 5
}
