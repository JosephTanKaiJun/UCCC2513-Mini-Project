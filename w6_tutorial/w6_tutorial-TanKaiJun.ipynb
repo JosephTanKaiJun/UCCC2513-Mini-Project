{
 "cells": [
  {
   "cell_type": "markdown",
   "id": "4397d9a2-2756-43b6-b463-59304f9ce5b5",
   "metadata": {},
   "source": [
    "# Setup"
   ]
  },
  {
   "cell_type": "code",
   "execution_count": 4,
   "id": "10bfcf7f-c78a-4fc7-b243-51387c428d66",
   "metadata": {},
   "outputs": [
    {
     "data": {
      "text/plain": [
       "True"
      ]
     },
     "execution_count": 4,
     "metadata": {},
     "output_type": "execute_result"
    }
   ],
   "source": [
    "import sys\n",
    "assert sys.version_info >= (3, 8)\n",
    "\n",
    "import cv2 as cv\n",
    "import numpy as np\n",
    "import matplotlib.pyplot as plt\n",
    "from utils import display_images, matplotlib_show_images, display_images, display_image, auto_canny\n",
    "if cv.useOptimized():\n",
    "    cv.setUseOptimized(True)\n",
    "\n",
    "cv.useOptimized()"
   ]
  },
  {
   "cell_type": "markdown",
   "id": "b643fd39-50f2-4ef2-afe1-e0335e6788c5",
   "metadata": {},
   "source": [
    "# Weekly activities\n",
    "1. Apply custom sharpening kernel of aperture size 3 and 5 as shown below on 'native-bee.png':  \n",
    "$ 3 \\times 3$ kernel:  \n",
    "$ \\begin{bmatrix}\n",
    "0 & -1 & 0 \\\\\n",
    "-1 & 5 & -1 \\\\\n",
    "0 & -1 & 0\\\\\n",
    "\\end{bmatrix}$  \n",
    "$ 5 \\times 5$ kernel:  \n",
    "$ \\begin{bmatrix}\n",
    "-1 & -1 & -1 & -1 & -1 \\\\\n",
    "-1 & -1 & -1 & -1 & -1 \\\\\n",
    "-1 & -1 & 25 & -1 & -1 \\\\\n",
    "-1 & -1 & -1 & -1 & -1 \\\\\n",
    "-1 & -1 & -1 & -1 & -1 \\\\\n",
    "\\end{bmatrix}$  \n",
    "What can you infer from the outputs?\n"
   ]
  },
  {
   "cell_type": "code",
   "execution_count": 8,
   "id": "9f883cd0-a586-402f-a590-ecfc3879a44a",
   "metadata": {},
   "outputs": [],
   "source": [
    "k3 = np.array ([[0, -1, 0],\n",
    "                [-1, 5, -1],\n",
    "                [0, -1, 0]])\n",
    "\n",
    "k5 = np.array([[-1, -1, -1, -1, -1],\n",
    "               [-1, -1, -1, -1, -1],\n",
    "               [-1, -1, 25, -1, -1],\n",
    "               [-1, -1, -1, -1, -1],\n",
    "               [-1, -1, -1, -1, -1]])\n",
    "\n",
    "img = cv.imread(\"images/native-bee.png\")\n",
    "dst1 = cv.filter2D(img, -1, k3)\n",
    "dst2 = cv.filter2D(img, -1, k5)\n",
    "\n",
    "display_images([img, dst1, dst2], (\"source\",\"3x3\", \"5x5\"))\n"
   ]
  },
  {
   "cell_type": "markdown",
   "id": "931e046b-81d9-4dc6-87a6-bd58b64edb7c",
   "metadata": {},
   "source": [
    "2. Apply different image smoothing techniques (e.g. average filter, Gaussian kernel and median filter) on 'noise_lena.jpg' and display the resulting images after the convolution. Comment on the outcomes and deduce the type of noise present on the image."
   ]
  },
  {
   "cell_type": "code",
   "execution_count": 16,
   "id": "9fb1c6dc-dd72-4b35-a57b-69c0f579d0a5",
   "metadata": {},
   "outputs": [],
   "source": [
    "#2\n",
    "img = cv.imread(\"images/noise_lena.jpg\")\n",
    "\n",
    "blur1 = cv.blur(img, (5, 5))\n",
    "blur2 = cv.GaussianBlur(img, (5, 5), 0)\n",
    "blur3 = cv.medianBlur(img, 5)\n",
    "blur4 = cv.bilateralFilter(img, d=9, sigmaColor=75, sigmaSpace=75)\n",
    "\n",
    "display_images([img, blur1, blur2, blur3, blur4],(\"source\", \"average_filter\", \"Gaussian kernel\", \"median filter\", \"bilateral filtering\"))\n"
   ]
  },
  {
   "cell_type": "markdown",
   "id": "af39749f-a71c-49c4-acf2-348aeb81c934",
   "metadata": {},
   "source": [
    "\n",
    "3. Write a program to *segment the boat and the people on it from the background*. Follow the instruction below:\n",
    "    - Use 'boat.jpg' as input.\n",
    "    - Apply Otsu thresholding.\n",
    "    - Draw bounding box to identify the region where the boat and people are located."
   ]
  },
  {
   "cell_type": "code",
   "execution_count": 18,
   "id": "6463ad3f-6572-4538-8d87-e1a18f967546",
   "metadata": {},
   "outputs": [],
   "source": [
    "\n",
    "#3\n",
    "img = cv.imread(\"images/boat.jpg\")\n",
    "gray = cv.cvtColor(img, cv.COLOR_BGR2GRAY)\n",
    "\n",
    "ret, th = cv.threshold(gray, 0, 255, cv.THRESH_BINARY_INV | cv.THRESH_OTSU)\n",
    "contours, _ = cv.findContours(th, cv.RETR_TREE, cv.CHAIN_APPROX_SIMPLE)\n",
    "contour_max_area = max(contours, key=cv.contourArea)\n",
    "\n",
    "x, y, w, h = cv.boundingRect(contour_max_area)\n",
    "img_copy = img.copy()\n",
    "cv.rectangle(img_copy, (x, y), (x + w, y + h), (0, 255, 0), 2)\n",
    "display_image(\"gotchu boat\", img_copy)"
   ]
  },
  {
   "cell_type": "code",
   "execution_count": null,
   "id": "a4b8274a-fb2f-4c7c-9ab5-3cd496d18e66",
   "metadata": {},
   "outputs": [],
   "source": []
  }
 ],
 "metadata": {
  "kernelspec": {
   "display_name": "Python 3 (ipykernel)",
   "language": "python",
   "name": "python3"
  },
  "language_info": {
   "codemirror_mode": {
    "name": "ipython",
    "version": 3
   },
   "file_extension": ".py",
   "mimetype": "text/x-python",
   "name": "python",
   "nbconvert_exporter": "python",
   "pygments_lexer": "ipython3",
   "version": "3.11.7"
  }
 },
 "nbformat": 4,
 "nbformat_minor": 5
}
