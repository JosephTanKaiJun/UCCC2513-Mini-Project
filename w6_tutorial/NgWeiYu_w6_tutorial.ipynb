{
 "cells": [
  {
   "cell_type": "markdown",
   "id": "27002a7c-8745-4671-b313-d0d206954dc7",
   "metadata": {},
   "source": [
    "# Weekly activities\n",
    "1. Apply custom sharpening kernel of aperture size 3 and 5 as shown below on 'native-bee.png':  \n",
    "$ 3 \\times 3$ kernel:  \n",
    "$ \\begin{bmatrix}\n",
    "0 & -1 & 0 \\\\\n",
    "-1 & 5 & -1 \\\\\n",
    "0 & -1 & 0\\\\\n",
    "\\end{bmatrix}$  \n",
    "$ 5 \\times 5$ kernel:  \n",
    "$ \\begin{bmatrix}\n",
    "-1 & -1 & -1 & -1 & -1 \\\\\n",
    "-1 & -1 & -1 & -1 & -1 \\\\-1 & -1 & 25 & -1 & -1 \\\\\n",
    "-1 & -1 & -1 & -1 & -1 \\\\\n",
    "-1 & -1 & -1 & -1 & -1 \\\\\n",
    "\\end{bmatrix}$  \n",
    "What can you infer from the output?\n",
    "2. Apply different image smoothing techniques (e.g. average filter, Gaussian kernel and median filter) on 'noise_lena.jpg' and display the resulting images after the convolution. Comment on the outcomes and deduce the type of noise present on the image.\n",
    "3. Write a program to *segment the boat and the people on it from the background*. Follow the instruction below:\n",
    "    - Use 'boat.jpg' as input.\n",
    "    - Apply Otsu thresholding.\n",
    "    - Draw bounding box to identify the region where the boat and people are located."
   ]
  },
  {
   "cell_type": "code",
   "execution_count": null,
   "id": "f966481c-436b-49c8-90d0-04fccb708f03",
   "metadata": {},
   "outputs": [],
   "source": [
    "import sys\n",
    "assert sys.version_info >= (3, 8)\n",
    "\n",
    "import cv2 as cv\n",
    "import numpy as np\n",
    "import matplotlib.pyplot as plt\n",
    "from utils import *\n",
    "if cv.useOptimized():\n",
    "    cv.setUseOptimized(True)\n",
    "\n",
    "cv.useOptimized()"
   ]
  },
  {
   "cell_type": "code",
   "execution_count": null,
   "id": "7d40e736-1517-4d80-8aef-8c4c589cf30d",
   "metadata": {},
   "outputs": [],
   "source": [
    "img = cv.imread(\"images/native-bee.png\")\n",
    "\n",
    "# Define the kernels\n",
    "kernel_3x3 = np.array([[0, -1, 0],\n",
    "                       [-1, 5, -1],\n",
    "                       [0, -1, 0]])\n",
    "\n",
    "kernel_5x5 = np.array([[-1, -1, -1, -1, -1],\n",
    "                       [-1, -1, -1, -1, -1],\n",
    "                       [-1, -1, 25, -1, -1],\n",
    "                       [-1, -1, -1, -1, -1],\n",
    "                       [-1, -1, -1, -1, -1]])\n",
    "\n",
    "# Apply the kernels\n",
    "dst_3x3 = cv.filter2D(img, -1, kernel_3x3)\n",
    "dst_5x5 = cv.filter2D(img, -1, kernel_5x5)\n",
    "\n",
    "# Display the images\n",
    "display_images([img, dst_3x3, dst_5x5], (\"Original\", \"3x3 Sharpened\", \"5x5 Sharpened\"))"
   ]
  },
  {
   "cell_type": "code",
   "execution_count": null,
   "id": "43cde758-1408-4e1e-acec-0f4fadbdc895",
   "metadata": {},
   "outputs": [],
   "source": [
    "#Q2\n",
    "img = cv.imread(\"images/noise_lena.jpg\")\n",
    "\n",
    "# Apply average filter\n",
    "avg_filter = cv.blur(img, (5,5))\n",
    "\n",
    "# Apply Gaussian filter\n",
    "gaussian_filter = cv.GaussianBlur(img, (5,5), 0)\n",
    "\n",
    "# Apply median filter\n",
    "median_filter = cv.medianBlur(img, 5)\n",
    "\n",
    "# Display the images\n",
    "display_images([img, avg_filter, gaussian_filter, median_filter], \n",
    "               (\"Original\", \"Average Filter\", \"Gaussian Filter\", \"Median Filter\"))"
   ]
  },
  {
   "cell_type": "code",
   "execution_count": null,
   "id": "28c97243-1bef-4e04-9728-b647074f99d4",
   "metadata": {},
   "outputs": [],
   "source": [
    "#3\n",
    "img = cv.imread(\"images/boat.jpg\")\n",
    "gray = cv.cvtColor(img, cv.COLOR_BGR2GRAY)\n",
    "\n",
    "# applying otsu thresholding\n",
    "ret, th = cv.threshold(gray, 0, 255, cv.THRESH_BINARY_INV | cv.THRESH_OTSU)\n",
    "\n",
    "# contour\n",
    "contours, _ = cv.findContours(th, cv.RETR_TREE, cv.CHAIN_APPROX_SIMPLE)\n",
    "#post-processing\n",
    "contour_max_area = max(contours, key=cv.contourArea)\n",
    "\n",
    "#draw bounding box\n",
    "x, y, w, h = cv.boundingRect(contour_max_area)\n",
    "img_copy = img.copy()\n",
    "# cv.drawContours(img_copy, [contour_max_area], -1, (0, 255, 0), 2)\n",
    "cv.rectangle(img_copy, (x, y), (x + w, y + h), (0, 255, 0), 2)\n",
    "display_image(\"gotchu boat\", img_copy)"
   ]
  },
  {
   "cell_type": "code",
   "execution_count": null,
   "id": "d872b0a9-5d67-4d5d-a00a-b6bae9edd0ee",
   "metadata": {},
   "outputs": [],
   "source": []
  }
 ],
 "metadata": {
  "kernelspec": {
   "display_name": "Python 3 (ipykernel)",
   "language": "python",
   "name": "python3"
  },
  "language_info": {
   "codemirror_mode": {
    "name": "ipython",
    "version": 3
   },
   "file_extension": ".py",
   "mimetype": "text/x-python",
   "name": "python",
   "nbconvert_exporter": "python",
   "pygments_lexer": "ipython3",
   "version": "3.12.4"
  }
 },
 "nbformat": 4,
 "nbformat_minor": 5
}
