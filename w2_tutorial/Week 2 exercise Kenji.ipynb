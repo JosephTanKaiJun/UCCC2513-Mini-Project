{
 "cells": [
  {
   "cell_type": "markdown",
   "id": "7b08df45-448d-41df-ae20-aa48a923d9cf",
   "metadata": {},
   "source": [
    "Exercises\n",
    "Find the range of values for each of the following data types:\n",
    "uint8\n",
    "int8\n",
    "uint32\n",
    "int32\n",
    "Try to write a simple custom function to determine whether a given integer is odd or even number.\n",
    "Write a simple example code to show that Numpy is more efficient in numerical computation of large arrays of data than equivalent Python list.\n",
    "Run the following codes:\n",
    "    # create a 1D array\n",
    "    my_arr = np.arange(10)\n",
    "    print(\"Initial my_arr: \", my_arr)\n",
    "    arr_slice = my_arr\n",
    "    print(\"Initial arr_slice: \", arr_slice)\n",
    "\n",
    "    # change the first element of arr_slice\n",
    "    arr_slice[0] = 55\n",
    "\n",
    "    print(\"my_arr: \", my_arr)\n",
    "    print(\"arr_slice: \", arr_slice)\n",
    "What do you notice? Propose a way to reassign arr_slice with new value without modifying my_arr.\n",
    "\n",
    "Create an image as shown as the following with the help of Numpy and matplotlib modules. You can arbitrarily set the dimension of the image and white circular spot at the middle."
   ]
  },
  {
   "cell_type": "markdown",
   "id": "d0bc63b0-263a-4c96-9fd4-5ff11933fe33",
   "metadata": {},
   "source": [
    "1. \n",
    "uint8 (Unsigned 8-bit integer)\n",
    "\n",
    "Range: 0 to 255\n",
    "int8 (Signed 8-bit integer)\n",
    "\n",
    "Range: -128 to 127\n",
    "uint32 (Unsigned 32-bit integer)\n",
    "\n",
    "Range: 0 to 4,294,967,295\n",
    "int32 (Signed 32-bit integer)\n",
    "\n",
    "Range: -2,147,483,648 to 2,147,483,647"
   ]
  },
  {
   "cell_type": "code",
   "execution_count": 4,
   "id": "c2f155a9-82fc-4838-b5f6-f29da128898c",
   "metadata": {},
   "outputs": [
    {
     "data": {
      "text/plain": [
       "'Odd'"
      ]
     },
     "execution_count": 4,
     "metadata": {},
     "output_type": "execute_result"
    }
   ],
   "source": [
    "x = 3\n",
    "\n",
    "def odd_even(n):\n",
    "    if n%2 ==0:\n",
    "        return \"Even\"\n",
    "    else:\n",
    "        return \"Odd\"\n",
    "\n",
    "odd_even(x)"
   ]
  },
  {
   "cell_type": "code",
   "execution_count": 5,
   "id": "68c85370-ba6a-46c1-84ce-228a6c36d89b",
   "metadata": {},
   "outputs": [
    {
     "name": "stdout",
     "output_type": "stream",
     "text": [
      "Time taken for NumPy array addition: 0.0 seconds\n",
      "Time taken for Python list addition: 0.07854914665222168 seconds\n"
     ]
    }
   ],
   "source": [
    "import numpy as np\n",
    "import time\n",
    "\n",
    "# Size of the array\n",
    "size = 1000000\n",
    "\n",
    "# Creating a large array using numpy\n",
    "numpy_array1 = np.arange(size)\n",
    "numpy_array2 = np.arange(size)\n",
    "\n",
    "# Creating a large array using Python lists\n",
    "python_list1 = list(range(size))\n",
    "python_list2 = list(range(size))\n",
    "\n",
    "# Measuring time for NumPy array addition\n",
    "start_time = time.time()\n",
    "numpy_result = numpy_array1 + numpy_array2\n",
    "end_time = time.time()\n",
    "numpy_time = end_time - start_time\n",
    "\n",
    "# Measuring time for Python list addition\n",
    "start_time = time.time()\n",
    "python_result = [python_list1[i] + python_list2[i] for i in range(size)]\n",
    "end_time = time.time()\n",
    "python_time = end_time - start_time\n",
    "\n",
    "print(f\"Time taken for NumPy array addition: {numpy_time} seconds\")\n",
    "print(f\"Time taken for Python list addition: {python_time} seconds\")"
   ]
  },
  {
   "cell_type": "code",
   "execution_count": 7,
   "id": "8a3a9835-81a9-4cc3-a92f-1839c71895ef",
   "metadata": {},
   "outputs": [
    {
     "name": "stdout",
     "output_type": "stream",
     "text": [
      "Initial my_arr:  [0 1 2 3 4 5 6 7 8 9]\n",
      "Initial arr_slice:  [0 1 2 3 4 5 6 7 8 9]\n",
      "my_arr:  [55  1  2  3  4  5  6  7  8  9]\n",
      "arr_slice:  [55  1  2  3  4  5  6  7  8  9]\n"
     ]
    }
   ],
   "source": [
    "# create a 1D array\n",
    "my_arr = np.arange(10)\n",
    "print(\"Initial my_arr: \", my_arr)\n",
    "arr_slice = my_arr\n",
    "print(\"Initial arr_slice: \", arr_slice)\n",
    "\n",
    "# change the first element of arr_slice\n",
    "arr_slice[0] = 55\n",
    "\n",
    "print(\"my_arr: \", my_arr)\n",
    "print(\"arr_slice: \", arr_slice)"
   ]
  },
  {
   "cell_type": "code",
   "execution_count": null,
   "id": "0586fbe8-4e21-4f65-a1ac-d6c0cfcb60c3",
   "metadata": {},
   "outputs": [],
   "source": []
  }
 ],
 "metadata": {
  "kernelspec": {
   "display_name": "Python 3 (ipykernel)",
   "language": "python",
   "name": "python3"
  },
  "language_info": {
   "codemirror_mode": {
    "name": "ipython",
    "version": 3
   },
   "file_extension": ".py",
   "mimetype": "text/x-python",
   "name": "python",
   "nbconvert_exporter": "python",
   "pygments_lexer": "ipython3",
   "version": "3.11.7"
  }
 },
 "nbformat": 4,
 "nbformat_minor": 5
}
