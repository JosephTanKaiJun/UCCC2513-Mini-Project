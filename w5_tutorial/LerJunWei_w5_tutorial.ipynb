{
 "cells": [
  {
   "cell_type": "code",
   "execution_count": 4,
   "id": "a78196f2-8118-4c00-8a9d-227a633c2187",
   "metadata": {},
   "outputs": [
    {
     "data": {
      "text/plain": [
       "True"
      ]
     },
     "execution_count": 4,
     "metadata": {},
     "output_type": "execute_result"
    }
   ],
   "source": [
    "import sys\n",
    "assert sys.version_info >= (3, 8)\n",
    "\n",
    "import cv2 as cv\n",
    "import numpy as np\n",
    "import matplotlib.pyplot as plt\n",
    "import os\n",
    "import random\n",
    "from utils import display_images, display_image\n",
    "\n",
    "if not cv.useOptimized():\n",
    "    cv.setUseOptimized(True)\n",
    "\n",
    "cv.useOptimized()"
   ]
  },
  {
   "cell_type": "markdown",
   "id": "ecbef03a-aaaa-496e-b90b-90262ea43ec4",
   "metadata": {},
   "source": [
    "# Weekly activity\n",
    "1. Rotate image by 45 degrees without cropping the sides of the image. (Hint: There are 2 strategies to tackle these problems). Use _\"lena.jfif\"_ as the input image.\n",
    "    - Use external libraries `imutils`.  \n",
    "    - Modify the transformation matrix.\n",
    "2. Use the images with titles: _\"flower.jfif\"_ and _\"native-bee.png\"_. I want to put flower above an image. If I add two images, it will change color. If I blend it, I get a transparent effect. But I want it to be opaque. If it was a rectangular region, we could use the ROI as we did in the previous section. But flower is not a rectangular region. This is where bitwise operations, like AND, OR, NOT and XOR really come in handy. The associated functions are `cv.bitwise_and()`, `cv.bitwise_or()` and `cv.bitwise_not()`. You need to use `cv.threshold` function to segment the flower. Please refer to [online documentation](https://docs.opencv.org/4.x/d0/d86/tutorial_py_image_arithmetics.html) for more info. The result should resemble the following:  \n",
    "![bee and flowers](img_embed/activity3.PNG \"bee_flower\")\n",
    "3. Write a function that randomly crop the central region of an image. The method signature should be as shown in the following:\n",
    "```\n",
    "random_center_crop(image, min_crop_ratio, max_crop_ratio)\n",
    "```\n",
    "\n",
    "4. Aside from Gaussian noise, name another common type of noise. Write the code to demonstrate how the noise can be included in an image."
   ]
  },
  {
   "cell_type": "code",
   "execution_count": 10,
   "id": "38c13986-2445-49b7-aac7-1eb9f94cd69d",
   "metadata": {},
   "outputs": [],
   "source": [
    "# 1\n",
    "import imutils\n",
    "image = cv.imread(\"images/lena.jfif\")\n",
    "#strategy 1: use imutils library\n",
    "imutils_rotation = imutils.rotate(image, 45)\n",
    "cv.imshow(\"imutils\", imutils_rotation)\n",
    "\n",
    "#stategy 2: modify the transformation matrix\n",
    "h, w = image.shape[:2]\n",
    "center = ( w // 2, h // 2)\n",
    "angle = 45\n",
    "scale = 1\n",
    "M = cv.getRotationMatrix2D(center, angle, scale)\n",
    "\n",
    "dst = cv.warpAffine(image, M, (w, h))\n",
    "cv.imshow(\"transformation\", dst)\n",
    "cv.waitKey(0)\n",
    "cv.destroyAllWindows()"
   ]
  },
  {
   "cell_type": "code",
   "execution_count": 12,
   "id": "e9526dca-1924-44ee-aeab-f10dff86a711",
   "metadata": {},
   "outputs": [],
   "source": [
    "# 2\n",
    "flower_img = cv.imread(\"images/flower.jfif\")\n",
    "bee_img = cv.imread(\"images/native-bee.png\")\n",
    "\n",
    "# location of flower on top of bee's head\n",
    "rows, cols, channels = flower_img.shape\n",
    "roi = bee_img[0:rows, 0:cols]\n",
    "\n",
    "# mask of flower and create inverse mask of flower\n",
    "flower_gray = cv.cvtColor(flower_img, cv.COLOR_BGR2GRAY)\n",
    "ret, mask = cv.threshold(flower_gray, 74, 255, cv.THRESH_BINARY)\n",
    "inv_mask = cv.bitwise_not(mask)\n",
    "\n",
    "# black-out the area of flower in ROI\n",
    "bee_bg = cv.bitwise_and(roi, roi, mask = inv_mask)\n",
    "\n",
    "# extract only region of flower from the flower_img\n",
    "flower_fg = cv.bitwise_and(flower_img, flower_img, mask = mask)\n",
    "\n",
    "# put flower in ROI and modify the main image\n",
    "dst = cv.add(bee_bg, flower_fg)\n",
    "bee_img[0:rows, 0:cols] = dst\n",
    "\n",
    "# Display result\n",
    "cv.imshow('Result', bee_img)\n",
    "cv.waitKey(0)\n",
    "cv.destroyAllWindows()"
   ]
  },
  {
   "cell_type": "code",
   "execution_count": 30,
   "id": "48b0aa0f-69c8-484c-b57d-5c658bdad019",
   "metadata": {},
   "outputs": [],
   "source": [
    "# 3\n",
    "def random_center_crop(image, min_crop_ratio, max_crop_ratio):\n",
    "    \n",
    "    crop_ratio = np.random.uniform(min_crop_ratio, max_crop_ratio)\n",
    "\n",
    "    crop_size = int(min(image.shape[0], image.shape[1]) * crop_ratio)\n",
    "    \n",
    "    x = (image.shape[1] - crop_size) // 2\n",
    "    y = (image.shape[0] - crop_size) // 2\n",
    "    \n",
    "    cropped_image = image[y:y + crop_size, x:x + crop_size]\n",
    "\n",
    "    return cropped_image\n",
    "    \n",
    "img = cv.imread(\"images/dice.jfif\")\n",
    "cropped_img = random_center_crop(img, 0.5, 1)\n",
    "cv.imshow(\"original images\", img)\n",
    "cv.imshow(\"random center cropped image\", cropped_img)\n",
    "cv.waitKey(0)\n",
    "cv.destroyAllWindows()"
   ]
  },
  {
   "cell_type": "code",
   "execution_count": 177,
   "id": "c88d7f60-a905-463d-abb1-24d2288cc5f6",
   "metadata": {},
   "outputs": [],
   "source": [
    "# 4 Salt-and-pepper noise\n",
    "def snp_noise(image):\n",
    "    rols, cols, ch = image.shape\n",
    "    svp = 0.5\n",
    "    amount = 0.5\n",
    "    image_noise = np.copy(image)\n",
    "\n",
    "    num_salt = np.ceil(amount * image.size * svp)\n",
    "    cd = [np.random.randint(0, i - 1, int(num_salt)) for i in image.shape]\n",
    "    image_noise[tuple(cd)] = 255\n",
    "\n",
    "    # Pepper mode\n",
    "    num_pepper = np.ceil(amount* image.size * (1. - svp))\n",
    "    cd = [np.random.randint(0, i - 1, int(num_pepper)) for i in image.shape]\n",
    "    image_noise[tuple(cd)] = 0\n",
    "    return image_noise\n",
    "\n",
    "img = cv.imread(\"images/lena.jfif\")\n",
    "\n",
    "img_noise = snp_noise(img)\n",
    "\n",
    "cv.imshow(\"noise image\", img_noise)\n",
    "cv.imshow(\"ori image\", img)\n",
    "cv.waitKey(0)\n",
    "cv.destroyAllWindows()"
   ]
  },
  {
   "cell_type": "code",
   "execution_count": null,
   "id": "48ed0747-27c8-4339-9e22-16310314ecb2",
   "metadata": {},
   "outputs": [],
   "source": []
  }
 ],
 "metadata": {
  "kernelspec": {
   "display_name": "Python 3 (ipykernel)",
   "language": "python",
   "name": "python3"
  },
  "language_info": {
   "codemirror_mode": {
    "name": "ipython",
    "version": 3
   },
   "file_extension": ".py",
   "mimetype": "text/x-python",
   "name": "python",
   "nbconvert_exporter": "python",
   "pygments_lexer": "ipython3",
   "version": "3.11.7"
  }
 },
 "nbformat": 4,
 "nbformat_minor": 5
}
