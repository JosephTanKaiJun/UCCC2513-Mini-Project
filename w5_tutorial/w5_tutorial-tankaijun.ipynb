{
 "cells": [
  {
   "cell_type": "code",
   "execution_count": 8,
   "id": "a78196f2-8118-4c00-8a9d-227a633c2187",
   "metadata": {},
   "outputs": [
    {
     "data": {
      "text/plain": [
       "True"
      ]
     },
     "execution_count": 8,
     "metadata": {},
     "output_type": "execute_result"
    }
   ],
   "source": [
    "import sys\n",
    "assert sys.version_info >= (3, 8)\n",
    "\n",
    "import cv2 as cv\n",
    "import numpy as np\n",
    "import matplotlib.pyplot as plt\n",
    "\n",
    "if not cv.useOptimized():\n",
    "    cv.setUseOptimized(True)\n",
    "\n",
    "cv.useOptimized()"
   ]
  },
  {
   "cell_type": "markdown",
   "id": "aad1f65c-9301-427b-ac22-66c945337b9d",
   "metadata": {},
   "source": [
    "# Weekly activity\n",
    "1. Rotate image by 45 degrees without cropping the sides of the image. (Hint: There are 2 strategies to tackle these problems). Use _\"lena.jfif\"_ as the input image.\n",
    "    - Use external libraries `imutils`.  \n",
    "    - Modify the transformation matrix."
   ]
  },
  {
   "cell_type": "code",
   "execution_count": 10,
   "id": "fd6e7a7d-80ba-4771-a239-52a5cb81f9ca",
   "metadata": {},
   "outputs": [],
   "source": [
    "import imutils\n",
    "from utils import display_image\n",
    "\n",
    "# Load the image\n",
    "image = cv.imread('images/lena.jfif')\n",
    "\n",
    "# Strategy 1: Using imutils\n",
    "rotated_imutils = imutils.rotate_bound(image, 45)\n",
    "display_image(\"Rotated Image using imutils\", rotated_imutils, adjust=True)\n",
    "\n",
    "# Strategy 2: Modifying the transformation matrix\n",
    "(h, w) = image.shape[:2]\n",
    "(cX, cY) = (w // 2, h // 2)\n",
    "M = cv.getRotationMatrix2D((cX, cY), 45, 1.0)\n",
    "cos = np.abs(M[0, 0])\n",
    "sin = np.abs(M[0, 1])\n",
    "new_w = int((h * sin) + (w * cos))\n",
    "new_h = int((h * cos) + (w * sin))\n",
    "M[0, 2] += (new_w / 2) - cX\n",
    "M[1, 2] += (new_h / 2) - cY\n",
    "rotated_matrix = cv.warpAffine(image, M, (new_w, new_h))\n",
    "display_image(\"Rotated Image using transformation matrix\", rotated_matrix, adjust=True)\n"
   ]
  },
  {
   "cell_type": "markdown",
   "id": "1f287583-495c-4cb4-90d8-eab8b88a4155",
   "metadata": {},
   "source": [
    "2. Use the images with titles: _\"flower.jfif\"_ and _\"native-bee.png\"_. I want to put flower above an image. If I add two images, it will change color. If I blend it, I get a transparent effect. But I want it to be opaque. If it was a rectangular region, we could use the ROI as we did in the previous section. But flower is not a rectangular region. This is where bitwise operations, like AND, OR, NOT and XOR really come in handy. The associated functions are `cv.bitwise_and()`, `cv.bitwise_or()` and `cv.bitwise_not()`. You need to use `cv.threshold` function to segment the flower. Please refer to [online documentation](https://docs.opencv.org/4.x/d0/d86/tutorial_py_image_arithmetics.html) for more info. The result should resemble the following:  \n",
    "![bee and flowers](img_embed/activity3.PNG \"bee_flower\")"
   ]
  },
  {
   "cell_type": "code",
   "execution_count": 12,
   "id": "841177cf-c983-4f37-bea5-f55dc09e123e",
   "metadata": {},
   "outputs": [],
   "source": [
    "# 2\n",
    "flower_img = cv.imread(\"images/flower.jfif\")\n",
    "bee_img = cv.imread(\"images/native-bee.png\")\n",
    "\n",
    "# location of flower on top of bee's head\n",
    "rows, cols, channels = flower_img.shape\n",
    "roi = bee_img[0:rows, 0:cols]\n",
    "\n",
    "# mask of flower and create inverse mask of flower\n",
    "flower_gray = cv.cvtColor(flower_img, cv.COLOR_BGR2GRAY)\n",
    "ret, mask = cv.threshold(flower_gray, 74, 255, cv.THRESH_BINARY)\n",
    "inv_mask = cv.bitwise_not(mask)\n",
    "\n",
    "# black-out the area of flower in ROI\n",
    "bee_bg = cv.bitwise_and(roi, roi, mask = inv_mask)\n",
    "\n",
    "# extract only region of flower from the flower_img\n",
    "flower_fg = cv.bitwise_and(flower_img, flower_img, mask = mask)\n",
    "\n",
    "# put flower in ROI and modify the main image\n",
    "dst = cv.add(bee_bg, flower_fg)\n",
    "bee_img[0:rows, 0:cols] = dst\n",
    "\n",
    "# Display result\n",
    "cv.imshow('Result', bee_img)\n",
    "cv.waitKey(0)\n",
    "cv.destroyAllWindows()"
   ]
  },
  {
   "cell_type": "markdown",
   "id": "fd5c4d88-9557-4651-8257-338ae3eb7f6c",
   "metadata": {},
   "source": [
    "3. Write a function that randomly crop the central region of an image. The method signature should be as shown in the following:\n",
    "```\n",
    "random_center_crop(image, min_crop_ratio, max_crop_ratio)\n",
    "```"
   ]
  },
  {
   "cell_type": "code",
   "execution_count": 16,
   "id": "80294206-6445-4212-8d02-c2d49d5ed2a4",
   "metadata": {},
   "outputs": [],
   "source": [
    "import random\n",
    "from utils import display_image\n",
    "\n",
    "def random_center_crop(image, min_crop_ratio, max_crop_ratio):\n",
    "    h, w = image.shape[:2]\n",
    "    assert 0 < min_crop_ratio <= max_crop_ratio < 1, \"Crop ratios should be between 0 and 1\"\n",
    "    crop_ratio = random.uniform(min_crop_ratio, max_crop_ratio)\n",
    "    crop_h = int(h * crop_ratio)\n",
    "    crop_w = int(w * crop_ratio)\n",
    "    start_y = (h - crop_h) // 2\n",
    "    start_x = (w - crop_w) // 2\n",
    "    cropped_image = image[start_y:start_y+crop_h, start_x:start_x+crop_w]\n",
    "    return cropped_image\n",
    "\n",
    "# Example usage\n",
    "image = cv.imread('images/lena.jfif')\n",
    "cropped_image = random_center_crop(image, 0.5, 0.8)\n",
    "display_image(\"Cropped Image\", cropped_image, adjust=True)\n"
   ]
  },
  {
   "cell_type": "markdown",
   "id": "b876cef2-aa85-41f6-acd8-e67e97810cbd",
   "metadata": {},
   "source": [
    "4. Aside from Gaussian noise, name another common type of noise. Write the code to demonstrate how the noise can be included in an image."
   ]
  },
  {
   "cell_type": "code",
   "execution_count": 20,
   "id": "923c9375-f469-4e30-9af5-892d37dbc9cf",
   "metadata": {},
   "outputs": [],
   "source": [
    "from utils import display_image\n",
    "\n",
    "def add_salt_and_pepper_noise(image, salt_prob, pepper_prob):\n",
    "    noisy_image = np.copy(image)\n",
    "    num_salt = np.ceil(salt_prob * image.size)\n",
    "    coords = [np.random.randint(0, i - 1, int(num_salt)) for i in image.shape]\n",
    "    noisy_image[coords[0], coords[1], :] = 1\n",
    "    num_pepper = np.ceil(pepper_prob * image.size)\n",
    "    coords = [np.random.randint(0, i - 1, int(num_pepper)) for i in image.shape]\n",
    "    noisy_image[coords[0], coords[1], :] = 0\n",
    "    return noisy_image\n",
    "\n",
    "# Example usage\n",
    "image = cv.imread('images/lena.jfif')\n",
    "noisy_image = add_salt_and_pepper_noise(image, 0.02, 0.02)\n",
    "display_image(\"Noisy Image\", noisy_image, adjust=True)\n"
   ]
  }
 ],
 "metadata": {
  "kernelspec": {
   "display_name": "Python 3 (ipykernel)",
   "language": "python",
   "name": "python3"
  },
  "language_info": {
   "codemirror_mode": {
    "name": "ipython",
    "version": 3
   },
   "file_extension": ".py",
   "mimetype": "text/x-python",
   "name": "python",
   "nbconvert_exporter": "python",
   "pygments_lexer": "ipython3",
   "version": "3.11.7"
  }
 },
 "nbformat": 4,
 "nbformat_minor": 5
}
